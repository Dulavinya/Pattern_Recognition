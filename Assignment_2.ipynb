{
  "nbformat": 4,
  "nbformat_minor": 0,
  "metadata": {
    "colab": {
      "provenance": [],
      "authorship_tag": "ABX9TyNCpgi0pOpjS6zu+EJu+9pT",
      "include_colab_link": true
    },
    "kernelspec": {
      "name": "python3",
      "display_name": "Python 3"
    },
    "language_info": {
      "name": "python"
    }
  },
  "cells": [
    {
      "cell_type": "markdown",
      "metadata": {
        "id": "view-in-github",
        "colab_type": "text"
      },
      "source": [
        "<a href=\"https://colab.research.google.com/github/Dulavinya/Pattern_Recognition/blob/main/Assignment_2.ipynb\" target=\"_parent\"><img src=\"https://colab.research.google.com/assets/colab-badge.svg\" alt=\"Open In Colab\"/></a>"
      ]
    },
    {
      "cell_type": "markdown",
      "source": [
        "# Logistic Regression"
      ],
      "metadata": {
        "id": "ZQfQcKWBK5P6"
      }
    },
    {
      "cell_type": "markdown",
      "source": [],
      "metadata": {
        "id": "LAJRuzcKUQMa"
      }
    },
    {
      "cell_type": "code",
      "execution_count": 10,
      "metadata": {
        "id": "yWb7OmNzGs1a",
        "outputId": "24303958-bfdc-4ab5-da74-13d696471f9b",
        "colab": {
          "base_uri": "https://localhost:8080/"
        }
      },
      "outputs": [
        {
          "output_type": "stream",
          "name": "stdout",
          "text": [
            "       species  class_encoded\n",
            "0       Adelie              0\n",
            "1       Adelie              0\n",
            "2       Adelie              0\n",
            "4       Adelie              0\n",
            "5       Adelie              0\n",
            "..         ...            ...\n",
            "215  Chinstrap              1\n",
            "216  Chinstrap              1\n",
            "217  Chinstrap              1\n",
            "218  Chinstrap              1\n",
            "219  Chinstrap              1\n",
            "\n",
            "[214 rows x 2 columns]\n"
          ]
        }
      ],
      "source": [
        " import seaborn as sns\n",
        " import pandas as pd\n",
        " from sklearn.model_selection import train_test_split\n",
        " from sklearn.preprocessing import LabelEncoder\n",
        " from sklearn.linear_model import LogisticRegression\n",
        " from sklearn.metrics import accuracy_score\n",
        " # Load the penguins dataset\n",
        " df = sns.load_dataset(\"penguins\")\n",
        " df.dropna(inplace=True)\n",
        " # Filter rows for 'Adelie' and 'Chinstrap' classes\n",
        " selected_classes = ['Adelie', 'Chinstrap']\n",
        " df_filtered = df[df['species'].isin(selected_classes)].copy()\n",
        " # Make a copy to avoid the warning\n",
        " # Initialize the LabelEncoder\n",
        " le = LabelEncoder()\n",
        " # Encode the species column\n",
        " y_encoded = le.fit_transform(df_filtered['species'])\n",
        " df_filtered['class_encoded'] = y_encoded\n",
        " # Display the filtered and encoded DataFrame\n",
        " print(df_filtered[['species', 'class_encoded']])\n",
        " # Split the data into features (X) and target variable (y)\n",
        " y = df_filtered['class_encoded'] # Target variable\n",
        " X = df_filtered.drop(['class_encoded'], axis=1)"
      ]
    },
    {
      "cell_type": "code",
      "source": [
        "\n",
        "# Separate features (X) and target (y)\n",
        "X = df.drop(\"species\", axis=1)   # drop species column → features\n",
        "y = df[\"species\"]                # target is species (Adelie, Gentoo, Chinstrap)\n",
        "\n",
        "# Convert categorical columns in X (like 'island', 'sex') to numeric\n",
        "X = pd.get_dummies(X, drop_first=True)\n",
        "\n",
        "# Train/test split\n",
        "X_train, X_test, y_train, y_test = train_test_split(\n",
        "    X, y, test_size=0.2, random_state=42\n",
        ")\n",
        "\n",
        "# Train logistic regression (saga solver handles multinomial)\n",
        "logreg = LogisticRegression(solver='saga', max_iter=5000, multi_class='multinomial')\n",
        "logreg.fit(X_train, y_train)\n",
        "\n",
        "# Predict on test set\n",
        "y_pred = logreg.predict(X_test)\n",
        "\n",
        "# Evaluate\n",
        "print(\"Accuracy:\", accuracy_score(y_test, y_pred))\n",
        "print(\"Coefficients:\\n\", logreg.coef_)\n",
        "print(\"Intercept:\\n\", logreg.intercept_)\n"
      ],
      "metadata": {
        "id": "zCo892KFeC1M",
        "outputId": "15ee1bbb-f01e-4942-af74-3664cd0caad1",
        "colab": {
          "base_uri": "https://localhost:8080/"
        }
      },
      "execution_count": 11,
      "outputs": [
        {
          "output_type": "stream",
          "name": "stderr",
          "text": [
            "/usr/local/lib/python3.12/dist-packages/sklearn/linear_model/_logistic.py:1247: FutureWarning: 'multi_class' was deprecated in version 1.5 and will be removed in 1.7. From then on, it will always use 'multinomial'. Leave it to its default value to avoid this warning.\n",
            "  warnings.warn(\n"
          ]
        },
        {
          "output_type": "stream",
          "name": "stdout",
          "text": [
            "Accuracy: 0.8208955223880597\n",
            "Coefficients:\n",
            " [[-0.0551348   0.03968793  0.03625514 -0.0011849  -0.00132682  0.00349292\n",
            "   0.00333666]\n",
            " [ 0.07402304  0.0105706   0.02317215 -0.0020305   0.00595089 -0.00199955\n",
            "   0.00125945]\n",
            " [-0.01888824 -0.05025853 -0.05942729  0.0032154  -0.00462406 -0.00149337\n",
            "  -0.00459611]]\n",
            "Intercept:\n",
            " [ 1.01662629e-03  4.81676116e-05 -1.06479390e-03]\n"
          ]
        },
        {
          "output_type": "stream",
          "name": "stderr",
          "text": [
            "/usr/local/lib/python3.12/dist-packages/sklearn/linear_model/_sag.py:348: ConvergenceWarning: The max_iter was reached which means the coef_ did not converge\n",
            "  warnings.warn(\n"
          ]
        }
      ]
    },
    {
      "cell_type": "code",
      "source": [
        "# Separate features (X) and target (y)\n",
        "X = df.drop(\"species\", axis=1)   # drop species column → features\n",
        "y = df[\"species\"]                # target is species (Adelie, Gentoo, Chinstrap)\n",
        "\n",
        "# Convert categorical columns in X (like 'island', 'sex') to numeric\n",
        "X = pd.get_dummies(X, drop_first=True)\n",
        "\n",
        "# Train/test split\n",
        "X_train, X_test, y_train, y_test = train_test_split(\n",
        "    X, y, test_size=0.2, random_state=42\n",
        ")\n",
        "\n",
        "# Train logistic regression (saga solver handles multinomial)\n",
        "logreg = LogisticRegression(solver='liblinear')\n",
        "logreg.fit(X_train, y_train)\n",
        "\n",
        "# Predict on test set\n",
        "y_pred = logreg.predict(X_test)\n",
        "\n",
        "# Evaluate\n",
        "print(\"Accuracy:\", accuracy_score(y_test, y_pred))\n",
        "print(\"Coefficients:\\n\", logreg.coef_)\n",
        "print(\"Intercept:\\n\", logreg.intercept_)\n"
      ],
      "metadata": {
        "id": "5_oAMyXMeM0O",
        "outputId": "924a62c1-9c0e-4e69-b65d-aaf13d052c97",
        "colab": {
          "base_uri": "https://localhost:8080/"
        }
      },
      "execution_count": 14,
      "outputs": [
        {
          "output_type": "stream",
          "name": "stdout",
          "text": [
            "Accuracy: 1.0\n",
            "Coefficients:\n",
            " [[-1.21303563e+00  1.96891582e+00  8.46819951e-02  1.96973605e-04\n",
            "  -4.75452531e-01  5.51533587e-01  4.05404800e-01]\n",
            " [ 1.43920930e+00 -1.69116882e-01 -1.78777533e-01 -7.06040700e-03\n",
            "   6.99523334e-01 -2.59068376e-01 -1.06770745e-01]\n",
            " [-2.48712091e-03 -1.75792679e+00  2.65456131e-02  5.38743665e-03\n",
            "  -1.95446974e-01 -5.55479040e-02 -1.95089908e-01]]\n",
            "Intercept:\n",
            " [ 0.07830714 -0.04338609 -0.03020347]\n"
          ]
        }
      ]
    },
    {
      "cell_type": "code",
      "source": [],
      "metadata": {
        "id": "1wGoX_Muk2DY"
      },
      "execution_count": null,
      "outputs": []
    }
  ]
}